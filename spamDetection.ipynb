{
 "cells": [
  {
   "cell_type": "markdown",
   "metadata": {},
   "source": [
    "### Detect Spam Using gpt-35-turbo-16k\n",
    "Make sure you make a '.env' file with base link and api key.\n",
    "\n",
    "Spam \\<shift> <enter/return> until you run into problems. Debug with claude/chat jippity."
   ]
  },
  {
   "cell_type": "code",
   "execution_count": null,
   "metadata": {},
   "outputs": [],
   "source": [
    "import os\n",
    "from dotenv import load_dotenv\n",
    "from openai import OpenAI\n",
    "\n",
    "load_dotenv(override=True)  # take environment variables from .env.\n",
    "\n",
    "client = OpenAI(\n",
    "    base_url=os.getenv(\"OPENAI_API_BASE\"),\n",
    "    api_key=os.getenv(\"OPENAI_API_KEY\")\n",
    ")\n",
    "\n",
    "from datasets import load_dataset\n",
    "\n",
    "ds = load_dataset(\"TrainingDataPro/email-spam-classification\")\n"
   ]
  },
  {
   "cell_type": "code",
   "execution_count": null,
   "metadata": {},
   "outputs": [],
   "source": [
    "email = 0\n",
    "print(ds.keys())  # Shows available splits\n",
    "print(ds['train']) \n",
    "print(\"____________________\")\n",
    "print(f\"Entire Email:\\n {ds['train'][email]}\")  # Prints the first data point\n",
    "print('____________________')\n",
    "print(f\"Subject:\\n {ds['train'][email]['title']}\\n\") \n",
    "print('____________________')\n",
    "print(f\"Body:\\n {ds['train'][email]['text']}\\n\")\n",
    "print('____________________')\n",
    "print(f\"Label:\\n {ds['train'][email]['type']}\\n\")\n"
   ]
  },
  {
   "cell_type": "markdown",
   "metadata": {},
   "source": [
    "##### Test the API and ensure you get a response"
   ]
  },
  {
   "cell_type": "code",
   "execution_count": null,
   "metadata": {},
   "outputs": [],
   "source": [
    "response = client.chat.completions.create(\n",
    "    model=\"gpt-35-turbo-16k\",\n",
    "    messages=[\n",
    "        {\"role\": \"system\", \"content\": \"You are an excellent spam detector. Given an email subject and body you return a response saying whether the message is 'spam' or 'not spam'.\"},\n",
    "        {\"role\": \"user\", \"content\": \"Hello! what is your name?\"}\n",
    "        #{\"role\": \"user\", \"content\": \"Hello! Can you briefly explain what OpenAI's GPT models are?\"}\n",
    "    ],\n",
    "    temperature=0.7\n",
    ")\n",
    "\n",
    "print(response.choices[0].message.content.strip())"
   ]
  },
  {
   "cell_type": "markdown",
   "metadata": {},
   "source": [
    "##### Test your prompting skills by editing the sys_context variable below. Best I've been able to get is 71.43% accuracy."
   ]
  },
  {
   "cell_type": "code",
   "execution_count": null,
   "metadata": {},
   "outputs": [],
   "source": [
    "def detect(subject, body):\n",
    "    sys_context = \"You are an excellent spam detector. Given an email subject and body, return either 'spam' or 'not spam'.\"\n",
    "    try:\n",
    "        response = client.chat.completions.create(\n",
    "            model=\"gpt-35-turbo-16k\",\n",
    "            messages=[\n",
    "                {\"role\": \"system\", \"content\": f\"{sys_context}\"},\n",
    "                {\"role\": \"user\", \"content\": f\"Subject: {subject}\\nBody: {body}\\nIs this spam or not spam?\"}\n",
    "            ],\n",
    "            temperature=0.0\n",
    "        )\n",
    "        \n",
    "        if not response or not response.choices:\n",
    "            print(\"Error: No valid response from OpenAI API\")\n",
    "            return \"error\"\n",
    "\n",
    "        result = response.choices[0].message.content.strip().lower()\n",
    "        return result\n",
    "\n",
    "    except Exception as e:\n",
    "        print(f\"API call failed: {e}\")\n",
    "        return \"error\"\n",
    "\n",
    "# Evaluate performance\n",
    "total = len(ds['train'])\n",
    "correct = 0\n",
    "\n",
    "max_label_length = 8 # helps align output for readabilty\n",
    "\n",
    "for index, email in enumerate(ds['train'], start=1):\n",
    "    subject = email['title']\n",
    "    body = email['text']\n",
    "    true_label = email['type'].lower()\n",
    "    predicted_label = detect(subject, body)\n",
    "\n",
    "    print(f\"e-mail {index:<3} Predicted: {predicted_label.ljust(max_label_length)} | Actual: {true_label.ljust(max_label_length)}\")\n",
    "\n",
    "    if predicted_label == true_label:\n",
    "        correct += 1\n",
    "\n",
    "\n",
    "# Print accuracy\n",
    "accuracy = correct / total * 100\n",
    "print(f\"Accuracy: {accuracy:.2f}%\")\n"
   ]
  },
  {
   "cell_type": "markdown",
   "metadata": {},
   "source": [
    "##### Test the model with custom email subject and body input."
   ]
  },
  {
   "cell_type": "code",
   "execution_count": null,
   "metadata": {},
   "outputs": [],
   "source": [
    "import gradio as gr\n",
    "\n",
    "\n",
    "with gr.Blocks() as demo:\n",
    "    gr.Markdown(\"## Spam Detector\")\n",
    "    subject_input = gr.Textbox(label=\"e-mail subject\")    # Text input component\n",
    "    body_input = gr.Textbox(label=\"e-mail body\")    # Text input component\n",
    "    text_output = gr.Textbox(label=\"Result\") # Text output component\n",
    "    echo_btn = gr.Button(\"Detect\")                 # Button to trigger the echo\n",
    "    \n",
    "    # Connect the button click event to the echo function\n",
    "    echo_btn.click(fn=detect, inputs=[subject_input, body_input], outputs=text_output)\n",
    "\n",
    "demo.launch()"
   ]
  }
 ],
 "metadata": {
  "kernelspec": {
   "display_name": "Python 3 (ipykernel)",
   "language": "python",
   "name": "python3"
  },
  "language_info": {
   "codemirror_mode": {
    "name": "ipython",
    "version": 3
   },
   "file_extension": ".py",
   "mimetype": "text/x-python",
   "name": "python",
   "nbconvert_exporter": "python",
   "pygments_lexer": "ipython3",
   "version": "3.13.2"
  }
 },
 "nbformat": 4,
 "nbformat_minor": 4
}
